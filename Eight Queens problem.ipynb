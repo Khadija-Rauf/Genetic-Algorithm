{
 "cells": [
  {
   "cell_type": "code",
   "execution_count": 1,
   "id": "60d4ba05",
   "metadata": {},
   "outputs": [],
   "source": [
    "import numpy as np\n",
    "import random"
   ]
  },
  {
   "cell_type": "markdown",
   "id": "f01e6035",
   "metadata": {},
   "source": [
    "# Functions"
   ]
  },
  {
   "cell_type": "code",
   "execution_count": 2,
   "id": "5003f9e8",
   "metadata": {},
   "outputs": [],
   "source": [
    "def check_rows(board,row):\n",
    "    count = 0\n",
    "    for i in range(8):\n",
    "        if board[row][i] !=0:\n",
    "            count+=1\n",
    "        if count >1:    \n",
    "            return False\n",
    "    return True"
   ]
  },
  {
   "cell_type": "code",
   "execution_count": 3,
   "id": "43a7581f",
   "metadata": {},
   "outputs": [],
   "source": [
    "def check_cols(board,col):\n",
    "    count = 0\n",
    "    for i in range(8):\n",
    "        if board[i][col] !=0:\n",
    "            count+=1\n",
    "        if count >1:    \n",
    "            return False\n",
    "    return True"
   ]
  },
  {
   "cell_type": "code",
   "execution_count": 4,
   "id": "d234882d",
   "metadata": {},
   "outputs": [],
   "source": [
    "def check_upper_right_diagonal(board,row,col):\n",
    "    i = row\n",
    "    j = col\n",
    "    while(i>0 and j<7):\n",
    "        i -=1\n",
    "        j +=1\n",
    "        if(board[i][j] != 0):\n",
    "            return False\n",
    "    return True"
   ]
  },
  {
   "cell_type": "code",
   "execution_count": 5,
   "id": "558fe43c",
   "metadata": {},
   "outputs": [],
   "source": [
    "def check_lower_left_diagonal(board,row,col):\n",
    "    i = row\n",
    "    j = col\n",
    "    while(i<7 and j>0):\n",
    "        i +=1\n",
    "        j -=1\n",
    "        if(board[i][j] != 0):\n",
    "            return False\n",
    "    return True"
   ]
  },
  {
   "cell_type": "code",
   "execution_count": 6,
   "id": "3e9318df",
   "metadata": {},
   "outputs": [],
   "source": [
    "def check_upper_left_diagonal(board,row,col):\n",
    "    i = row\n",
    "    j = col\n",
    "    while(i>0 and j>0):\n",
    "        i -=1\n",
    "        j -=1\n",
    "        if(board[i][j] != 0):\n",
    "            return False\n",
    "    return True"
   ]
  },
  {
   "cell_type": "code",
   "execution_count": 7,
   "id": "cb046d8e",
   "metadata": {},
   "outputs": [],
   "source": [
    "def check_lower_right_diagonal(board,row,col):\n",
    "    i = row\n",
    "    j = col\n",
    "    while(i<7 and j<7):\n",
    "        i +=1\n",
    "        j +=1\n",
    "        if(board[i][j] != 0):\n",
    "            return False\n",
    "    return True"
   ]
  },
  {
   "cell_type": "code",
   "execution_count": 8,
   "id": "4e7e5c17",
   "metadata": {},
   "outputs": [],
   "source": [
    "n = 8\n",
    "board1 = np.zeros((n,n), dtype = int)\n",
    "board2 = np.zeros((n,n), dtype = int)\n",
    "board3 = np.zeros((n,n), dtype = int)\n",
    "board4 = np.zeros((n,n), dtype = int)\n",
    "# Filling the Chess Boards randomly\n",
    "def fill_boards(board):\n",
    "    for i in range(0,8):\n",
    "        queen = random.randint(0,7)\n",
    "        board[queen][i] = 1\n",
    "# Four Chess boards \n",
    "fill_boards(board1)    \n",
    "fill_boards(board2) \n",
    "fill_boards(board3) \n",
    "fill_boards(board4)\n",
    "l = np.array([board1, board2,board3,board4])"
   ]
  },
  {
   "cell_type": "code",
   "execution_count": 9,
   "id": "ff2b1f21",
   "metadata": {},
   "outputs": [],
   "source": [
    "# This func checks how many queens in a board are fit (fit --> with 0 attacking queen)\n",
    "def check_queen_attack(board):\n",
    "    f = 0\n",
    "    for i in range(8):\n",
    "        for j in range(8):\n",
    "            if (board[i][j] == 1 and check_rows(board,i) and check_cols(board,j) and check_upper_right_diagonal(board,i,j) and check_lower_left_diagonal(board,i,j) and check_upper_left_diagonal(board,i,j) and check_lower_right_diagonal(board,i,j)):\n",
    "                f += 1\n",
    "            else:\n",
    "                continue\n",
    "    return f"
   ]
  },
  {
   "cell_type": "code",
   "execution_count": 10,
   "id": "3026ce18",
   "metadata": {},
   "outputs": [],
   "source": [
    "# It makes an array of fitness of all 4 boards\n",
    "def fitness_of_boards(board1,board2,board3,board4):\n",
    "    b1 = check_queen_attack(board1)\n",
    "    b2 = check_queen_attack(board2)\n",
    "    b3 = check_queen_attack(board3)\n",
    "    b4 = check_queen_attack(board4)\n",
    "    l1 = np.array([b1,b2,b3,b4])\n",
    "    return l1"
   ]
  },
  {
   "cell_type": "code",
   "execution_count": 11,
   "id": "603e9ce9",
   "metadata": {},
   "outputs": [],
   "source": [
    "d = {}\n",
    "d[0] = check_queen_attack(board1)\n",
    "d[1] = check_queen_attack(board2)\n",
    "d[2] = check_queen_attack(board3)\n",
    "d[3] = check_queen_attack(board4)\n",
    "# This function is selecting two best boards with more fit queens and less badness\n",
    "def select_boards(d,b):\n",
    "    selected_boards = []\n",
    "    lar = max(d, key = d.get)\n",
    "    val = list(d.values())\n",
    "    val.sort() \n",
    "    s_lar = val[-2]\n",
    "    if lar == 0:\n",
    "        selected_boards.append(b[0])\n",
    "    elif lar == 1:\n",
    "        selected_boards.append(b[1])\n",
    "    elif lar == 2:\n",
    "        selected_boards.append(b[2])\n",
    "    elif lar == 3:\n",
    "        selected_boards.append(b[3])\n",
    "# for second largest number\n",
    "    if s_lar == 0:\n",
    "        selected_boards.append(b[0])\n",
    "    elif s_lar == 1:\n",
    "        selected_boards.append(b[1])\n",
    "    elif s_lar == 2:\n",
    "        selected_boards.append(b[2])\n",
    "    elif s_lar == 3:\n",
    "        selected_boards.append(b[3])\n",
    "    return selected_boards"
   ]
  },
  {
   "cell_type": "code",
   "execution_count": 12,
   "id": "521a1d9f",
   "metadata": {},
   "outputs": [],
   "source": [
    "def make_list(board):   # make list of rows where queen are placed e.g, [2 4 5 6 7 1 3 0]\n",
    "    l = []\n",
    "    for i in range(8):\n",
    "        for j in range(8):\n",
    "            if(board[j][i] == 1):\n",
    "                l.append(j)\n",
    "    return l"
   ]
  },
  {
   "cell_type": "code",
   "execution_count": 13,
   "id": "9b1ad9fd",
   "metadata": {},
   "outputs": [],
   "source": [
    "# placing queens according to array of rows \n",
    "def place_boards(l):\n",
    "    board = np.zeros((n,n), dtype = int)\n",
    "    for i,j in zip(range(8),l):\n",
    "        board[j][i] = 1\n",
    "    return board"
   ]
  },
  {
   "cell_type": "code",
   "execution_count": 14,
   "id": "2f926ec7",
   "metadata": {},
   "outputs": [],
   "source": [
    "def mutation(l):\n",
    "    index = random.randint(0,7)\n",
    "    value = random.randint(0,7)\n",
    "    l[index] = l[value]\n",
    "    return l"
   ]
  },
  {
   "cell_type": "code",
   "execution_count": 15,
   "id": "510e0a04",
   "metadata": {},
   "outputs": [],
   "source": [
    "# This function is performing cross Over on selected two best boards and then returning a list of two boards\n",
    "def crossOver(l):\n",
    "    l_a = make_list(l[0])\n",
    "    l_b = make_list(l[1])\n",
    "    point = random.randint(0,7) # point of crossover\n",
    "    l1 = l_a[:point] \n",
    "    l2 = l_b[point:]\n",
    "    l3 = l_a[point:]\n",
    "    l4 = l_b[:point]\n",
    "    list_c1 = l1+l2\n",
    "    list_c2 = l3+l4\n",
    "    mutation(list_c1)\n",
    "    mutation(list_c2)\n",
    "    b1 = place_boards(list_c1)\n",
    "    b2 = place_boards(list_c2)\n",
    "    return [b1,b2]"
   ]
  },
  {
   "cell_type": "code",
   "execution_count": 16,
   "id": "69c54082",
   "metadata": {},
   "outputs": [],
   "source": [
    "# This func is making list of two best boards and two boards after crossOver and mutation\n",
    "def create_boards_list(d,l):\n",
    "    l1 = []\n",
    "    s_l = []\n",
    "    c_l = []\n",
    "    l1 = select_boards(d,l)\n",
    "    a = make_list(l1[0])\n",
    "    b = make_list(l1[1])\n",
    "    c = place_boards(a)\n",
    "    d = place_boards(b)\n",
    "    s_l = [c,d]\n",
    "    c_l = crossOver(l1)\n",
    "    return s_l+c_l"
   ]
  },
  {
   "cell_type": "markdown",
   "id": "294837ba",
   "metadata": {},
   "source": [
    "# Main"
   ]
  },
  {
   "cell_type": "code",
   "execution_count": 19,
   "id": "46df4f9c",
   "metadata": {},
   "outputs": [
    {
     "name": "stdout",
     "output_type": "stream",
     "text": [
      "Solution Found: \n",
      " [0, 6, 3, 5, 7, 1, 4, 2]\n"
     ]
    }
   ],
   "source": [
    "# Main\n",
    "# This func is a recursive function it will print array of placed queens in rows if fitness is 8\n",
    "# Try running it several times \n",
    "def runner(d,boards,iterator):\n",
    "    if(iterator > 1000):\n",
    "        return\n",
    "    d = {}\n",
    "    l = []\n",
    "    s_l = []\n",
    "    l = fitness_of_boards(boards[0],boards[1],boards[2],boards[3])\n",
    "    for key,value in zip(range(4),l):\n",
    "        d[key] = value\n",
    "    for i,val in zip(range(4),l):\n",
    "        if i == 0 and val == 8:\n",
    "            print(\"Solution Found: \")\n",
    "            print(make_list(boards[0]))\n",
    "        elif i == 1 and val == 8:\n",
    "            print(\"Solution Found: \")\n",
    "            print(make_list(boards[1]))\n",
    "        elif i == 2 and val == 8:\n",
    "            print(\"Solution Found: \")\n",
    "            print(make_list(boards[2]))\n",
    "        elif i == 3 and val == 8:\n",
    "            print(\"Solution Found: \")\n",
    "            print(make_list(boards[3]))\n",
    "        else:\n",
    "            s_l = create_boards_list(d,boards)\n",
    "    for i in l:\n",
    "        if i !=8:\n",
    "            print(\"Solution not found yet!!!\\n Increase number of iterations...\")\n",
    "            return\n",
    "    iterator += 1\n",
    "    runner(d,s_l,iterator)\n",
    "boards = []\n",
    "boards = [board1,board2,board3,board4]\n",
    "runner(d,boards,0)"
   ]
  },
  {
   "cell_type": "code",
   "execution_count": null,
   "id": "13e2836c",
   "metadata": {},
   "outputs": [],
   "source": []
  }
 ],
 "metadata": {
  "kernelspec": {
   "display_name": "Python 3 (ipykernel)",
   "language": "python",
   "name": "python3"
  },
  "language_info": {
   "codemirror_mode": {
    "name": "ipython",
    "version": 3
   },
   "file_extension": ".py",
   "mimetype": "text/x-python",
   "name": "python",
   "nbconvert_exporter": "python",
   "pygments_lexer": "ipython3",
   "version": "3.9.7"
  }
 },
 "nbformat": 4,
 "nbformat_minor": 5
}
